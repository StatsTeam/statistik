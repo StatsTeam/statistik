{
 "cells": [
  {
   "cell_type": "markdown",
   "metadata": {},
   "source": [
    "# Was ist Statistik\n",
    "\n",
    "Die Statistik ist eine wissenschaftliche Disziplin, die sich mit dem Erfassen, Auswerten, Analysieren und Interpretieren von Daten beschäftigt. Unter Daten versteht man Informationen, die durch Messungen, Beobachtungen oder Befragungen gewonnen wurden.\n",
    "</br>\n",
    "</br>\n",
    "Eine einheitliche, disziplinübergreifende Definition von Daten existiert nicht.\n",
    "In der Informatik werden Daten als spezifische Informationen betrachtet, die in eine Form gebracht wurden, die für die Verarbeitung durch Computer effizient ist.\n",
    "</br>\n",
    "</br>\n",
    "Aus der Sicht der Mathematik können Daten als eine Menge von Werten definiert werden, die bestimmte Eigenschaften, Zustände oder Ergebnisse von Beobachtungen, Messungen oder Experimenten repräsentieren.\n",
    "</br>\n",
    "</br>\n",
    "Aus der Sicht der Physik können Daten als Messungen definiert werden, die physikalische Größen oder Zustände eines Systems repräsentieren. Diese Daten sind Ergebnisse von Experimenten oder Beobachtungen, die durchgeführt werden, um die physikalischen Gesetze und Theorien zu überprüfen, Modelle zu validieren oder neue Phänomene zu entdecken.\n",
    "</br>\n",
    "</br>\n",
    "In den Wirtschaftswissenschaften werden Daten als Informationen definiert, die wirtschaftliche Aktivitäten, Verhaltensweisen, Trends oder Zustände von Individuen, Unternehmen, Märkten oder Volkswirtschaften quantifizieren und beschreiben.\n",
    "</br>\n",
    "</br>\n",
    "Daten sind somit das verbindende Element zwischen verschiedenen wissenschaftlichen Disziplinen, da sie die Grundlage für Erkenntnisse, Modelle und Entscheidungen in nahezu allen Bereichen der Forschung und Praxis bilden."
   ]
  },
  {
   "cell_type": "markdown",
   "metadata": {},
   "source": [
    "## Unterteilung der Statistik\n",
    "\n",
    "Die Statistik lässt sich in drei Hauptbereiche unterteilen: deskriptive, induktive und explorative Statistik:\n",
    "- **Deskriptive (beschreibende) Statistik:**\n",
    "  </br>\n",
    "  Man arbeitet hier bereits mit vorliegenden Daten, sie werden nur noch aufbereitet, beschrieben und zusammengefasst. Außerdem ist die grafische Darstellung dieser Daten ein wichtiger Bestandteil der deskriptiven Statistik.\n",
    "  Dazu verwendet man unterschiedliche grafische Darstellungen, Tabellen und Kennzahlen.\n",
    "\n",
    "- **Induktive (schließende) Statistik:**\n",
    "  </br>\n",
    "  Hier schließt man von Daten auf Hypothesen (Annahmen, die weder bestätigt noch widerlegt sind), die getestet werden müssen. Dazu sind Methoden der Wahrscheinlichkeitsrechnung erforderlich. Ziel ist es, Aussagen über die Grundgesamtheit zu treffen, obwohl nur ein Teil dieser Gesamtheit untersucht wurde. Die induktive Statistik wird auch häufig als Inferenzstatistik bezeichnet.\n",
    "  \n",
    "- **Explorative Statistik:**\n",
    "  </br>\n",
    "  Hier werden die Ansätze von deskriptiver und induktiver Statistik vereint. Sie versucht Zusammenhänge zwischen vorhandenen Daten herzustellen, diese Zusammenhänge auf ihre Aussagesicherheit hin zu bewerten und mittels induktiver Testverfahren statistisch zu sichern.\n",
    "  Somit untersucht und begutachtet die explorative Statistik Daten, von denen nur ein geringes Wissen über deren Zusammenhänge vorliegt.\n"
   ]
  },
  {
   "cell_type": "markdown",
   "metadata": {},
   "source": [
    "## Anwendungsgebiete der Statistik\n",
    "\n",
    "Die Statistik findet in einer Vielzahl von Disziplinen Anwendung, da sie ein unverzichtbares Werkzeug zur Analyse und Interpretation von Daten darstellt. Hier sind einige Beispiele aus verschiedenen wissenschaftlichen Bereichen:\n",
    "\n",
    "### Physik\n",
    "\n",
    "In der Physik wird Statistik genutzt, um Messergebnisse zu analysieren, Unsicherheiten zu quantifizieren und physikalische Theorien zu überprüfen. Ein Beispiel ist die statistische Auswertung von Experimenten in der Quantenmechanik, wo die Ergebnisse einzelner Messungen nur mit gewissen Wahrscheinlichkeiten vorhergesagt werden können. Ein weiteres Beispiel ist die Anwendung der Statistik in der Thermodynamik, insbesondere in der statistischen Mechanik, wo das Verhalten von Teilchen in einem System anhand von Wahrscheinlichkeitsverteilungen beschrieben wird.\n",
    "\n",
    "### Informatik\n",
    "\n",
    "In der Informatik werden statistische Methoden in Bereichen wie maschinelles Lernen, künstliche Intelligenz und Datenanalyse eingesetzt. Ein prominentes Beispiel ist die Entwicklung und das Training von Algorithmen, die große Datenmengen analysieren und Muster erkennen, wie es etwa bei der Gesichtserkennung oder der Sprachanalyse der Fall ist. Auch in der Netzwerksicherheit werden statistische Modelle verwendet, um Anomalien in Netzwerkverkehrsdaten zu erkennen.\n",
    "\n",
    "### Medizin\n",
    "\n",
    "In der Medizin ist Statistik entscheidend für die Durchführung und Auswertung klinischer Studien. Beispielsweise werden statistische Tests verwendet, um die Wirksamkeit von neuen Medikamenten zu beurteilen. Auch in der Epidemiologie spielt die Statistik eine zentrale Rolle, etwa bei der Analyse von Krankheitsverläufen und der Bewertung von Risikofaktoren für bestimmte Krankheiten.\n",
    "\n",
    "### Wirtschaftswissenschaften\n",
    "\n",
    "In den Wirtschaftswissenschaften werden statistische Methoden verwendet, um wirtschaftliche Trends zu analysieren, Prognosen zu erstellen und ökonomische Modelle zu validieren. Beispiele sind die Analyse von Finanzmarktdaten zur Vorhersage von Aktienkursen oder die Bewertung des Einflusses wirtschaftspolitischer Maßnahmen auf Arbeitslosenraten.\n",
    "\n",
    "### Sozialwissenschaften\n",
    "\n",
    "In den Sozialwissenschaften, wie der Soziologie oder Psychologie, wird Statistik genutzt, um das Verhalten von Individuen und Gruppen zu analysieren. Beispielsweise werden Umfragedaten statistisch ausgewertet, um gesellschaftliche Trends zu identifizieren oder die Wirksamkeit von Interventionen in der öffentlichen Gesundheit zu messen."
   ]
  }
 ],
 "metadata": {
  "language_info": {
   "name": "python"
  }
 },
 "nbformat": 4,
 "nbformat_minor": 2
}
