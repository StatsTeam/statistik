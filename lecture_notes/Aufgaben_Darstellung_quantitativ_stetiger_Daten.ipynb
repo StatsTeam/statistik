{
 "cells": [
  {
   "cell_type": "markdown",
   "metadata": {},
   "source": [
    "# Aufgaben zu: Darstellung quantitativ stetiger Daten\n",
    "\n",
    "## 1. Aufgabe\n",
    "\n",
    "Die Teilnehmer eines Kurses haben einen Test geschrieben, bei dem man für jede Aufgabe einen Punkt bekommen konnte. Das abgebildete Histogramm zeigt das Ergebnis des Tests. Setze die fehlenden Zahlen ein bzw. streiche die falschen Antworten.\n",
    "\n",
    "<img src=\"../img/histogram_12.png\" alt=\"Bild vom Histogramm\" width=\"700\">\n",
    "\n",
    "1. An dem Test nahmen `_____` Personen teil. \n",
    "2. Die meisten Teilnehmer bekamen `_____` Punkte.\n",
    "3. `_____` Personen erhielten weniger als 5 Punkte.\n",
    "4. `_____` Prozent aller Teilnehmer erhielten mehr als 6 Punkte.\n",
    "5. Die durchschnittliche Punktezahl betrug `_____` Punkte.\n",
    "6. Aus der Grafik geht eindeutig hervor, dass der Test aus 8 Fragen bestand: `richtig / falsch` (begründe deine Antwort!)\n",
    "\n",
    "### Lösung\n",
    "\n",
    "1. An dem Test nahmen `20` Personen teil. \n",
    "2. Die meisten Teilnehmer bekamen `6` Punkte.\n",
    "3. `8` Personen erhielten weniger als 5 Punkte.\n",
    "4. `25%` Prozent aller Teilnehmer erhielten mehr als 6 Punkte.\n",
    "5. Die durchschnittliche Punktezahl betrug `4,85` Punkte:\n",
    "    $$\\frac{0 \\cdot 2 + 1 \\cdot 0 + 2 \\cdot 1 + 3 \\cdot 2 + 4 \\cdot 3 + 5 \\cdot 2 + 6 \\cdot 5 + 7 \\cdot 3 + 8 \\cdot 2}{20}=4.85$$\n",
    "6. Aus der Grafik geht eindeutig hervor, dass der Test aus 8 Fragen bestand: richtig / `falsch`\n",
    "   Es könnten auch mehr als 8 Fragen gewesen sein, aber niemand hat mehr als 8 richtige Antworten\n",
    "\n",
    "## 2. Aufgabe\n",
    "\n",
    "Von der Statistik Austria wurde erhoben, wie viele Kinder bzw. junge Menschen in Österreich sich im Jahr 2010 bzw. 2011 in welcher Bildungseinrichtung befanden. Die Auswertung der Daten ergab:\n",
    "\n",
    "| Bildungseinrichtung                     | Ungefähres Alter | Anzahl (gerundet) |\n",
    "| --------------------------------------- | ---------------- | ----------------- |\n",
    "| Kinderkrippe                            | 0 bis 2 Jahre    | 31 000            |\n",
    "| Kindergarten                            | 3 bis 5 Jahre    | 200 000           |\n",
    "| Volksschule (1. bis 4. Schulstufe)      | 6 bis 9 Jahre    | 322 000           |\n",
    "| Sekundarstufe 1 (5. bis 8. Schulstufe)  | 10 bis 13 Jahre  | 362 000           |\n",
    "| Sekundarstufe 2 (9. bis 13. Schulstufe) | 14 bis 20 Jahre  | 440 000           |\n",
    "\n",
    "Die Altersangaben sind auf folgende Weise zu lesen: 3 bis 5 Jahre bedeutet vom Beginn des 3. Lebensjahres bis zum vollendeten 5. Lebensjahr.\n",
    "<br>\n",
    "<br>\n",
    "Erstelle zu den relativen Häufigkeiten ein Säulendiagramm, in dem nur die Bezeichnungen der Bildungseinrichtungen verwendet werden, und erstelle ein Histogramm, das die Altersklassen verwendet.\n"
   ]
  }
 ],
 "metadata": {
  "language_info": {
   "name": "python"
  }
 },
 "nbformat": 4,
 "nbformat_minor": 2
}
