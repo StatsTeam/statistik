{
 "cells": [
  {
   "cell_type": "markdown",
   "metadata": {},
   "source": [
    "# Das arithmetische Mittel (arithmetischer Mittelwert)\n",
    "\n",
    "Am besten kann man sich das arithmetische Mittel visuell vorstellen wenn man alle Datenpunkte einer Zahlengruppe auf einer Zahlengeraden einzeichnet.\n",
    "<br>\n",
    "<br>\n",
    "Jeder Punkt stellt einen Wert in der Zahlenruppe dar. Das arithmetische Mittel kann als Punkt dargestellt werden, der die Mitte oder den \"Schwerpunkt\" dieser Datenpunkte bzw. der Zahlengruppe repräsentiert. Wenn man diese Punkte hypothetisch auf einer Waage platzieren würde, würde das arithmetische Mittel den Punkt darstellen, an dem die Waage im Gleichgewicht wäre.\n",
    "\n",
    "<img src=\"../img/arithmetisches_mittel.svg\" alt=\"Empirische Verteilungsfunktion\" width=\"400\">\n",
    "\n",
    "Dadurch dass es sich um ein \"Gleichgewicht\" handelt, lässt sich aus der Grafik die folgende Gleichung formulieren:\n",
    "\n",
    "$$\\tag{1}\\overline{x}-a=b-\\overline{x}$$\n",
    "\n",
    "Umstellen von $(1)$ nach $\\overline{x}$ ergibt sich das arithmetische Mittel für die Zahlengruppe mit zwei Datenpunkten:\n",
    "\n",
    "$$\\overline{x}=\\frac{a+b}{2}$$\n",
    "\n",
    "Verallgemeinert man diese Überlung auf $n$ Zahlen bzw. Datenpunkte, dann ergibt sich eine allgemeine Definition des arithmetischen Mittels:\n",
    "\n",
    "> Definition: $$\\overline{x}=\\frac{1}{n}\\cdot\\sum_{i=1}^nx_i$$\n",
    "\n",
    "## Die Schwerpunkteigenschaft\n",
    "\n",
    "Eine etwas andere Darstellung von $(1)$ wird auch als Schwerpunkteigenschaft des arithmetischen Mittels bezeichnet:\n",
    "\n",
    "$$(a-\\overline{x})+(b-\\overline{x})=0$$\n",
    "\n",
    "Diese Darstellung kann man auf $n$ Zahlen verallgemeinern um eine allgemeingültige Gleichung der Schwerpunkteigenschaft zu erhalten:\n",
    "\n",
    "> Definition: $$(x_1-\\overline{x})+(x_2-\\overline{x})+...+(x_n-\\overline{x})=0$$"
   ]
  }
 ],
 "metadata": {
  "language_info": {
   "name": "python"
  }
 },
 "nbformat": 4,
 "nbformat_minor": 2
}
