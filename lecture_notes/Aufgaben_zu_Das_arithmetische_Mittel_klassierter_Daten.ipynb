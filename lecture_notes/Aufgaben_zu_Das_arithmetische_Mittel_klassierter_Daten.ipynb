{
 "cells": [
  {
   "cell_type": "markdown",
   "metadata": {},
   "source": [
    "# Aufgaben zu: Das arithmetische Mittel klassierter Daten\n",
    "\n",
    "## 1. Aufgabe\n",
    "\n",
    "Für eine Gruppe von Studierenden liegt die folgende Größenverteilung vor:\n",
    "\n",
    "| Größe            | Absolute Klassenhäufigkeit |\n",
    "| ---------------- | -------------------------- |\n",
    "| `[1,55m; 1,65m)` | 12                         |\n",
    "| `[1,65m; 1,75m)` | 16                         |\n",
    "| `[1,75m; 1,85m)` | 22                         |\n",
    "\n",
    "Es soll das arithmetische Mittel für die \"Größe\" berechnet werden.\n",
    "\n",
    "### Lösung\n",
    "\n",
    "Als erstes wird die Tabelle um die Spalte \"Klassenmitte\" erweitert:\n",
    "\n",
    "| Größe            | Absolute Klassenhäufigkeit | Klassenmitte |\n",
    "| ---------------- | -------------------------- | ------------ |\n",
    "| `[1,55m; 1,65m)` | 12                         | `1,60m`      |\n",
    "| `[1,65m; 1,75m)` | 16                         | `1,70m`      |\n",
    "| `[1,75m; 1,85m)` | 22                         | `1,80m`      |\n",
    "\n",
    "Nun kann die Definition für klassierte Daten verwendet werden:\n",
    "\n",
    "$$\\overline{x}=\\frac{\\sum_{i=1}^n(m_i\\cdot n_i)}{\\sum_{i=1}^nn_i}$$\n",
    "\n",
    "Einsetzen der Werte ergibt:\n",
    "\n",
    "$$\\overline{x}=\\frac{1.60\\cdot 12 + 1.70\\cdot 16 + 1.80\\cdot 22}{12+16+22}=1.72m$$\n"
   ]
  }
 ],
 "metadata": {
  "language_info": {
   "name": "python"
  }
 },
 "nbformat": 4,
 "nbformat_minor": 2
}
