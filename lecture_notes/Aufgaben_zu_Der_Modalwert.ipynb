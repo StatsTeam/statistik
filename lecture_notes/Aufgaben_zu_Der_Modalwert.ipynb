{
 "cells": [
  {
   "cell_type": "markdown",
   "metadata": {},
   "source": [
    "# Aufgaben zu: Der Modalwert\n",
    "\n",
    "1. Aufgabe\n",
    "\n",
    "    Es soll die Lebensdauer von Glühlampen betrachtet werden:\n",
    "\n",
    "    | Stunden        | Absolute Häufigkeit $n_i$ |\n",
    "    | -------------- | ------------------------- |\n",
    "    | $[0; 100)$     | 1                         |\n",
    "    | $[100; 500)$   | 24                        |\n",
    "    | $[500; 1000)$  | 45                        |\n",
    "    | $[1000; 2000)$ | 30                        |\n",
    "    | Summe          | 100                       |\n",
    "<br>\n",
    "\n",
    "   1. Bestimme die Modalklasse\n",
    "   2. Berechne den Median der Modalklasse durch die Grobberechnung\n",
    "   3. Berechne den Median der Modalklasse durch die Feinberechnung\n",
    "   4. Berechne das arithmetische Mittel\n",
    "   5. Erstelle ein Histogramm, wobei auf der y-Achse die Häufigkeitsdichte abgetragen werden muss. Zeichne ebenfalls den Median und das arithmetische Mittel ein\n",
    "\n",
    "## Lösung\n",
    "\n",
    "**Tabelle erweitern:**\n",
    "\n",
    "| Stunden        | Absolute Häufigkeit $n_i$ | Relative Häufigkeit $h_i$ | Relative Häufigkeitsdichte $f(x_i)$ | Klassenmitte |\n",
    "| -------------- | ------------------------- | ------------------------- | ----------------------------------- | ------------ |\n",
    "| $[0; 100)$     | 1                         | 0.01                      | 0.0001                              | 50           |\n",
    "| $[100; 500)$   | 24                        | 0.24                      | 0.0006                              | 250          |\n",
    "| $[500; 1000)$  | 45                        | 0.45                      | 0.0009                              | 750          |\n",
    "| $[1000; 2000)$ | 30                        | 0.30                      | 0.0003                              | 1500         |\n",
    "| Summe          | 100                       | 1                         | -                                   |              |\n",
    "\n",
    "1. Bestimme die Modalklasse\n",
    "\n",
    "    Die Modalklasse hat die größte Häufigkeitsdichte: Es handelt sich um die 3. Klasse $x_3$\n",
    "\n",
    "2. Berechne den Median der Modalklasse durch die Grobberechnung\n",
    "\n",
    "$$x_\\text{Mod}=500+\\frac{1000-500}{2}=750\\ \\text{Stunden}$$\n",
    "\n",
    "3. Berechne den Median der Modalklasse durch die Feinberechnung\n",
    "\n",
    "$$x_\\text{Mod}=500+{\\frac{0.0009-0.0006}{2\\cdot 0.0009-0.0006-0.0003} \\cdot(1000-500)}=666.67\\ \\text{Stunden}$$\n",
    "\n",
    "4. Berechne das arithmetische Mittel\n",
    "\n",
    "$$\\overline{x}=\\frac{1\\cdot50+24\\cdot250+45\\cdot750+30\\cdot1500}{1+24+45+30}=848\\ \\text{Stunden}$$\n",
    "\n",
    "    "
   ]
  }
 ],
 "metadata": {
  "language_info": {
   "name": "python"
  }
 },
 "nbformat": 4,
 "nbformat_minor": 2
}
