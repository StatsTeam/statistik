{
 "cells": [
  {
   "cell_type": "markdown",
   "metadata": {},
   "source": [
    "# Lagemaßzahlen\n",
    "\n",
    "Bei den sogenannten Lagemaßzahlen, handelt es sich um Kennzahlen, welche die zentrale Tendenz von Merkmalsausprägungen beschreiben. Mit der zentralen Tendenz meint man einen Wert, welcher einen \"typischen\" Wert der Daten repräsentiert. Es geht also darum, einen einzelnen Wert zu finden, welcher die gesamte Verteilung der Daten zusammenfasst und einen Überblick gibt, wo die Datenwerte im Allgemeinen liegen.\n",
    "<br>\n",
    "<br>\n",
    "Es gibt verschiedene Arten von Lagemaßzahlen, die am häufigsten verwendeten sind der Mittelwert, der Median und der Modus."
   ]
  }
 ],
 "metadata": {
  "language_info": {
   "name": "python"
  }
 },
 "nbformat": 4,
 "nbformat_minor": 2
}
