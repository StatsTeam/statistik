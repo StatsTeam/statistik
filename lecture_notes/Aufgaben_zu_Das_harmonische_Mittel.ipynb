{
 "cells": [
  {
   "cell_type": "markdown",
   "metadata": {},
   "source": [
    "# Aufgaben zu: Das harmonische Mittel\n",
    "\n",
    "## 1. Aufgabe\n",
    "\n",
    "Man bestimmte das harmonische Mittel der Zahlen:<br>\n",
    "`3; 5; 6; 6; 7; 10; 12`\n",
    "\n",
    "### Lösung\n",
    "\n",
    "$$\\overline{x_H}=\\frac{7}{\\frac{1}{3}+\\frac{1}{5}+\\frac{1}{6}+\\frac{1}{6}+\\frac{1}{7}+\\frac{1}{10}+\\frac{1}{12}}=5.87$$\n",
    "\n"
   ]
  }
 ],
 "metadata": {
  "language_info": {
   "name": "python"
  }
 },
 "nbformat": 4,
 "nbformat_minor": 2
}
