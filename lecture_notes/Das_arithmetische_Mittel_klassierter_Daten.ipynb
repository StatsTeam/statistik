{
 "cells": [
  {
   "cell_type": "markdown",
   "metadata": {},
   "source": [
    "# Das arithmetische Mittel klassierter Daten\n",
    "\n",
    "Bei Daten welche in Klassen aufgeteilt sind kann das arithmetische Mittel nur näherungsweise bestimmt werden.\n",
    "<br>\n",
    "<br>\n",
    "Dazu wird für jede Klasse das arithmetische Mittel als Repräsentant der jeweiligen Klasse gebildet. Anschließend berechnet man das arithmetische Mittel in Form des gewichteten arithmetischen Mittels, wobei die Klassenhäufigkeiten die Gewichte sind.\n",
    "\n",
    "## Einführungsbeispiel\n",
    "\n",
    "In einem Betrieb sind 60 Mittarbeiter beschäftigt, deren Bruttomonatsverdienst in 4 Klassen gruppiert ist:\n",
    "\n",
    "| Klassen Nr. i | Verdienst      | Anzahl $n_i$ |\n",
    "| ------------- | -------------- | ------------ |\n",
    "| 1             | `[1400; 1800)` | 5            |\n",
    "| 2             | `[1800; 2200)` | 18           |\n",
    "| 3             | `[2200; 2600)` | 22           |\n",
    "| 4             | `[2600; 3000)` | 15           |\n",
    "\n",
    "Die Tabelle wird nun um die Spalte \"Klassenmitte\" erweitert:\n",
    "\n",
    "| Klassen Nr. i | Verdienst      | Klassenmitte $m_i$ | Anzahl $n_i$ |\n",
    "| ------------- | -------------- | ------------------ | ------------ |\n",
    "| 1             | `[1400; 1800)` | 1600               | 5            |\n",
    "| 2             | `[1800; 2200)` | 2000               | 18           |\n",
    "| 3             | `[2200; 2600)` | 2400               | 22           |\n",
    "| 4             | `[2600; 3000)` | 2800               | 15           |\n",
    "\n",
    "$$\\overline{x}=\\frac{5\\cdot1600+18\\cdot2000+22\\cdot2400+15\\cdot2800}{5+18+22+15}\\approx2313,3$$\n",
    "\n",
    "## Definition\n",
    "\n",
    "Das arithmetische Mittel für klassierte Daten kann allgemein definiert werden als:\n",
    "\n",
    "> Definition: $$\\overline{x}=\\frac{\\sum_{i=1}^n(m_i\\cdot n_i)}{\\sum_{i=1}^nn_i}$$ mit $m_i$ als Klassenmitte.\n",
    "\n",
    "Da die einzelnen Werte innerhalb der Klassen nicht genau bekannt sind, liefert das arithmetische Mittel bei klassierten Daten nur eine Näherung!\n",
    "Je breiter die Klassen sind, desto weniger präzise ist das arithmetische Mittel, da die Variation innerhalb der Klasse zunimmt."
   ]
  }
 ],
 "metadata": {
  "language_info": {
   "name": "python"
  }
 },
 "nbformat": 4,
 "nbformat_minor": 2
}
