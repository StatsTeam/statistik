{
 "cells": [
  {
   "cell_type": "markdown",
   "metadata": {},
   "source": [
    "# Der Modalwert (Modus)\n",
    "\n",
    "Der Modalwert (auch Modus genannt) gibt diejenige Merkmalsausprägung an, welche am häufigsten vorkommt. Bei den qualitativen Merkmalen ist es soger die einzige Lagemaßzahl.\n",
    "Der Modalwert ist besonders nützlich, wenn die Datenmenge diskrete Werte enthält, wie z.B. die Anzahl der Kinder in einer Familie oder die Anzahl der Augen auf einem Würfel. In diesen Fällen kann der Modalwert schnell anzeigen, welcher Wert am häufigsten auftritt und somit eine Vorstellung davon geben, welche Ergebnisse zu erwarten sind.\n",
    "<br>\n",
    "<br>\n",
    "Der Modalwert ist besonders nützlich, wenn die Datenmenge diskrete Werte enthält, wie z.B. die Anzahl der Kinder in einer Familie oder die Anzahl der Augen auf einem Würfel. In diesen Fällen kann der Modalwert schnell anzeigen, welcher Wert am häufigsten auftritt und somit eine Vorstellung davon geben, welche Ergebnisse zu erwarten sind.\n",
    "\n",
    "## Definition\n",
    "\n",
    "Ist $x_1$, $x_2$, $...$ , $x_n$ eine Reihe von Datenpunkten eines beliebigen Merkmals, dann heißt diejenige Merkmalsausprägung, die am häufigsten vorkommt, der Modalwert.\n",
    "\n",
    "> Definition des Modus: $x_{\\text{Modus}}$ oder auch $x_M$\n",
    "\n",
    "**Betrachten wir zur Verdeutlichung das folgende Beispiel:**\n",
    "- Im Jahr 2014 verteilten sich die privaten Konsumausgaben in Deutschland auf folgende Sektoren:\n",
    "\n",
    "    | Konsum                                     | Relative Häufigkeit |\n",
    "    | ------------------------------------------ | ------------------- |\n",
    "    | Bekleidung und Schuhe                      | $5\\%$               |\n",
    "    | Freizeit, Unterhaltung und Kultur          | $10\\%$              |\n",
    "    | Nahrungsmittel, Getränke und Tabakwaren    | $14\\%$              |\n",
    "    | Verkehr                                    | $14\\%$              |\n",
    "    | Wohnen, Energie und Wohnungsinstandhaltung | $36\\%$              |\n",
    "    | Sonstiges                                  | $22\\%$              |\n",
    "\n",
    "    <br>\n",
    "    <img src=\"../img/balkendaigramm_vertikal_02.png\" alt=\"Empirische Verteilungsfunktion\" width=\"700\">\n",
    "\n",
    "    Aus der Grafik ist bereits ersichtlich dass der Konsum \"Wohnen, Energie und Wohnungsinstandhaltung\" der Modalwert ist:\n",
    "\n",
    "    $$x_M=x_5$$\n",
    "\n",
    "## Modus bei klassierten Daten\n",
    "\n",
    "Bei Daten, die nicht klassiert sind, ist die Bestimmung des Modus demnach noch recht einfach. Es ist der Wert (oder die Werte), der am häufigsten vorkommt. Klassierte Daten müssen zwei Fälle unterschieden werden:\n",
    "- gleiche Klassenbreiten\n",
    "- ungleichen Klassenbreiten\n",
    "\n",
    "**gleiche Klassenbreiten:**\n",
    "\n",
    "die am häufigsten vorkommende Klasse ist die Modalklasse. Möchte man diese durch  eine Grafik (Histogramm) bestimmen, so ist es die Klasse (mit der größten absoluten oder relativen Häufigkeit), deren Balken die größte Fläche hat. Modus selbst wird meistens die Klassenmitte verwendet.\n",
    "\n",
    "\n"
   ]
  }
 ],
 "metadata": {
  "language_info": {
   "name": "python"
  }
 },
 "nbformat": 4,
 "nbformat_minor": 2
}
