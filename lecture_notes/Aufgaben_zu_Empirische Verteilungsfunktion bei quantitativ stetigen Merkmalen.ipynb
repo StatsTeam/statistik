{
 "cells": [
  {
   "cell_type": "markdown",
   "metadata": {},
   "source": [
    "# Aufgaben zu: Empirische Verteilungsfunktion bei quantitativ stetigen Merkmalen\n",
    "\n",
    "## 1. Aufgabe\n",
    "\n",
    "Vom 05.08.2016 bis zum 21.08.2016 fanden in Rio de Janeiro die olympischen Sommerspiele statt. In der Qualifikationsgruppe A des Weitsprungs der Frauen  wurden folgende Weiten in Metern erzielt.\n",
    "\n",
    "| Spalte 1 | Spalte 2 | Spalte 3 | Spalte 4 | Spalte 5 | Spalte 6 |\n",
    "| -------- | -------- | -------- | -------- | -------- | -------- |\n",
    "| 5,86     | 6,16     | 6,4      | 6,55     | 6,7      | 5,95     |\n",
    "| 6,29     | 6,41     | 6,55     | 6,82     | 6,13     | 6,32     |\n",
    "| 6,45     | 6,64     | 6,87     | 6,15     | 6,37     | 6,49     |\n",
    "| 6,65     |          |          |          |          |          |\n",
    "\n",
    "Verwenden Sie die 6 Klassen:\n",
    "<br>\n",
    "\n",
    "`[5,7; 5,9), [5,9; 6,1), [6,1; 6,3),`\n",
    "`[6,3; 6,5), [6,5; 6,7) und [6,7; 6,9)` \n",
    "<br>\n",
    "der Breite $d=0,2$ und ermitteln Sie die relativen Klassenhäufigkeiten sowie die kumulierten relativen Klassenhäufigkeiten. Zeichnen Sie das zugehörige Histogramm und den Graphen der Verteilungsfunktion.\n",
    "\n",
    "## Lösung\n",
    "\n",
    "| Klasse       | $n_i$ | $h_i$   | $h(x_i)$ | $F(x)$  | $x_i$ |\n",
    "| ------------ | ----- | ------- | -------- | ------- | ----- |\n",
    "| `[5,7; 5,9)` | 1     | 0,05263 | 0,26316  | 0,05263 | 5,8   |\n",
    "| `[5,9; 6,1)` | 1     | 0,05263 | 0,26316  | 0,10526 | 6     |\n",
    "| `[6,1; 6,3)` | 4     | 0,21053 | 1,05263  | 0,31579 | 6,2   |\n",
    "| `[6,3; 6,5)` | 6     | 0,31579 | 1,57894  | 0,63158 | 6,4   |\n",
    "| `[6,5; 6,7)` | 4     | 0,21053 | 1,05263  | 0,84211 | 6,6   |\n",
    "| `[6,7; 6,9)` | 3     | 0,15789 | 0,78947  | 1       | 6,8   |\n",
    "\n",
    "<br>\n",
    "\n",
    "<img src=\"../img/histogram_17.png\" alt=\"Empirische Verteilungsfunktion\" width=\"700\">"
   ]
  }
 ],
 "metadata": {
  "language_info": {
   "name": "python"
  }
 },
 "nbformat": 4,
 "nbformat_minor": 2
}
