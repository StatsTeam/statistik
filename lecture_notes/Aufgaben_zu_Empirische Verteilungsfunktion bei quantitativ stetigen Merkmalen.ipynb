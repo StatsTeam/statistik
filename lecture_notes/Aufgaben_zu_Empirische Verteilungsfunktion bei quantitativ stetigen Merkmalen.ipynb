{
 "cells": [
  {
   "cell_type": "markdown",
   "metadata": {},
   "source": [
    "# Aufgaben zu: Empirische Verteilungsfunktion bei quantitativ stetigen Merkmalen"
   ]
  }
 ],
 "metadata": {
  "language_info": {
   "name": "python"
  }
 },
 "nbformat": 4,
 "nbformat_minor": 2
}
