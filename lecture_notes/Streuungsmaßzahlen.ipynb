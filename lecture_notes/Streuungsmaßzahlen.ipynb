{
 "cells": [
  {
   "cell_type": "markdown",
   "metadata": {},
   "source": [
    "# Die Streuungsmaßzahlen\n",
    "\n",
    "Streuungsmaße, auch Dispersionsmaße oder Streuungsparameter genannt, fassen in der deskriptiven Statistik verschiedene Maßzahlen zusammen, welche die Streubreite von Beobachtungswerten beziehungsweise einer Häufigkeitsverteilung um einen geeigneten Lageparameter herum beschreiben. Man ist somit mit den Streuungsmaßzahlen in der Lage, die Streubreite von Daten anzugeben.\n",
    "Eine der Gemeinsamkeiten von Lagemaßen und Streuungsmaßen liegt darin, dass sie verwendet werden, um die Informationen aus großen Datensätzen zusammenzufassen und übersichtlich darzustellen.\n",
    "\n",
    "## Einführungsbeispiel\n",
    "\n",
    "Als Einführung in die Welt der Streuungsmaßzahlen soll folgendes Beispiel dienen:\n",
    "<br>\n",
    "<br>\n",
    "In einer Stadt gibt es zwei Krankenhäuser, ein großes und ein kleines. In dem großen Krankenhaus kommen jeden Tag etwas $45$ Kinder zur Welt, in dem kleinen Krankenhaus etwa $15$. Bekanntlich sind ca. $50$% der Geburten Jungen. Natürlich schwankt der tatsächliche Prozentsatz der Knabelgeburten von Tag zu Tag, mal ist er höher, mal niedriger als $50$%. Für die Dauer eines Jahres registriert nun jedes der beiden Krankenhäuser die Tage, an denen mehr als $60$% der Geburten Jungen sind.\n",
    "<br>\n",
    "<br>\n",
    "Was glaubt Ihr, in welchem der Krankenhäuser ist eine größere Anzahl von Tagen vorhanden, an denen mehr als $60$% der Geburten Jungen sind?\n",
    "<br>\n",
    "<br>\n",
    "Folgende drei Möglichkeiten stehen zur Auswahl vorhanden:\n",
    "- Im großen Krankenhaus\n",
    "- Im kleinen Krankenhaus\n",
    "- In den beiden Krankenhäusern etwa gleich\n",
    "\n",
    "Um eine erste Antwort auf dieses Problem geben zu können, simuliert man die Situation. Geburten kann man mit einem Zufallsgenerator simulieren, welcher Zahlen liefert, die zu $50$% gleich $1$ und zu $50$% gleich $0$ sind. Ein Tag in dem kleinen Krankenhaus wird dann durch eine Kette aus $15$ Nullen oder Einsen dargestellt. Interpretiert man eine Eins als Geburt eines Knaben, dann erhält man die Zahl der Kabengeburten durch Summieren der $15$ Ziffern. Führt man für beide Krankenhäuser eine Simulation für 365 Tage durch und stellt die relativen Häufigkeiten der Knabengeburten geeignet klassiert dar, dann ergeben sich folgende Grafiken:\n",
    "\n",
    "<img src=\"../img/hospital_example_01.png\" alt=\"Linda Mengendiagramm\" width=\"400\">\n",
    "\n",
    "<img src=\"../img/hospital_example_02.png\" alt=\"Linda Mengendiagramm\" width=\"400\">\n",
    "\n"
   ]
  }
 ],
 "metadata": {
  "language_info": {
   "name": "python"
  }
 },
 "nbformat": 4,
 "nbformat_minor": 2
}
