{
 "cells": [
  {
   "cell_type": "markdown",
   "metadata": {},
   "source": [
    "## Glossar"
   ]
  },
  {
   "cell_type": "markdown",
   "metadata": {},
   "source": [
    "| Begriff                        | Beschreibung                                                                                                                                                      |\n",
    "|-------------------------------|-------------------------------------------------------------------------------------------------------------------------------------------------------------------|\n",
    "| deskriptive Statistik          | Teilbereich der Statistik, der Daten durch Kennzahlen und grafische Darstellungen zusammenfasst und beschreibt, um die wichtigsten Merkmale einer Datenmenge verständlich zu machen. |\n",
    "| Induktive Statisktik          | Teilbereich der Statistik, der auf Basis einer Stichprobe allgemeine Schlussfolgerungen über eine gesamte Population zieht, oft unter Verwendung von Hypothesentests und Konfidenzintervallen. |\n",
    "| Explorative Statikstik        | Ansatz zur Datenanalyse, der darauf abzielt, Muster, Trends und Zusammenhänge in Datensätzen zu entdecken, ohne vorab definierte Hypothesen zu verwenden. |\n",
    "| Grundgesamtheit               | Die gesamte Menge aller Elemente oder Individuen, die für eine bestimmte Fragestellung von Interesse sind und aus denen eine Stichprobe entnommen werden kann. |\n",
    "| Quantitative Merkmale          | Merkmale, die in Zahlen gemessen werden können und eine quantitative Aussage über die Größe oder Menge machen. **Unterteilung**: Diskrete Merkmale: Zählbare Werte (z. B. Anzahl der Kinder); Stetige Merkmale: Werte innerhalb eines Intervalls (z. B. Körpergröße, Gewicht). |\n",
    "| Qualitative Merkmale           | Merkmale, die nicht in Zahlen ausgedrückt werden, sondern Kategorien oder Eigenschaften beschreiben (z. B. Geschlecht, Farbe, Nationalität, Markenpräferenz). |\n",
    "| Rangmerkmale (Ordinalmerkmale) | Merkmale, die eine natürliche Reihenfolge oder Rangfolge haben, aber die Abstände zwischen den Rängen sind nicht gleich (z. B. Schulnoten 1 bis 6, Zufriedenheitsumfragen). |\n",
    "| Skalierung                    | Der Prozess der Zuordnung von Zahlen oder Kategorien zu Objekten oder Merkmalen, um deren Eigenschaften messbar zu machen und die Analyse von Daten zu ermöglichen. |\n",
    "| Nominal skaliert              | Eine Skalierung, die qualitative Merkmale in Kategorien ohne natürliche Reihenfolge einteilt. Werte können addiert, subtrahiert und in Verhältnissen interpretiert werden. |\n",
    "| Metrisch skaliert             | Eine Skalierung, die quantitative Merkmale beschreibt und sowohl einen absoluten Nullpunkt als auch gleichmäßige Abstände zwischen den Werten aufweist. |\n",
    "| Intervallskala                | Eine Skalierung mit gleichmäßigen Abständen zwischen den Werten, aber ohne absoluten Nullpunkt; erlaubt Addition und Subtraktion, jedoch keine Verhältnisse. |\n",
    "| Natürliche Einheiten           | Einheiten, die auf physikalischen Größen basieren und unabhängig von willkürlichen Standards sind (z. B. Lichtgeschwindigkeit, Gravitationskonstante). |\n",
    "| Nicht-natürliche Einheiten     | Willkürlich festgelegte Einheiten, die nicht direkt aus natürlichen Größen abgeleitet sind (z. B. Geldbeträge wie Euro oder Dollar). |\n",
    "| Verhältnisskala               | Eine Skalierung, die gleichmäßige Abstände zwischen den Werten und einen absoluten Nullpunkt aufweist; ermöglicht alle mathematischen Operationen. |\n",
    "| Absolutskala                  | Eine spezielle Form der Verhältnisskala, die einen absoluten Nullpunkt hat und bei der die Werte absolute Maße darstellen; alle mathematischen Operationen sind möglich. |\n"
   ]
  }
 ],
 "metadata": {
  "language_info": {
   "name": "python"
  }
 },
 "nbformat": 4,
 "nbformat_minor": 2
}
