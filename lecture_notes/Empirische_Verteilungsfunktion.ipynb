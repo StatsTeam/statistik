{
 "cells": [
  {
   "cell_type": "markdown",
   "metadata": {},
   "source": [
    "# Empirische Verteilungsfunktionen (EVF)\n",
    "\n",
    "Die empirische Verteilungsfunktion gibt an, mit welcher Wahrscheinlichkeit ein Messwert aus einer Stichprobe höchstens einen bestimmten Wert erreicht.\n",
    "Sie dient zur Veranschaulichung der kumulierten Häufigkeiten und gibt einen Überblick darüber, wie sich die Verteilung der Stichprobe auf bestimmte Werte verteilt.\n",
    "Kumulierte Häufigkeiten sind eine Art, die Häufigkeit von Werten in einer Datenreihe schrittweise zu summieren, um darzustellen, wie viele Werte bis zu einem bestimmten Punkt in der Verteilung aufgetreten sind.\n",
    "<br>\n",
    "<br>\n",
    "Stellen wir uns die EVF als eine Funktion vor, die für jeden möglichen Messwert $x$ den Anteil der Stichprobe angibt, der höchstens diesen Wert erreicht.\n",
    "Als Beispiel könnten wir die folgende kleine Stichproble betrachten, welche die Körpergröße von fünf Personen angibt:\n",
    "`160; 165; 170; 175; 180`\n",
    "\n",
    "Die EVF dieser Daten würde für verschiedene Werte $x$ wie folgt aussehen:\n",
    "- Für $x=160$: Der Anteil der PErsonen, die höchstens $160$ cm groß sind, beträgt $\\frac{1}{5}=0.2$\n",
    "- Für $x=165$: Der Anteil der PErsonen, die höchstens $165$ cm groß sind, beträgt $\\frac{2}{5}=0.4$\n",
    "- Für $x=170$: Der Anteil der PErsonen, die höchstens $170$ cm groß sind, beträgt $\\frac{3}{5}=0.6$\n",
    "- Für $x=175$: Der Anteil der PErsonen, die höchstens $175$ cm groß sind, beträgt $\\frac{4}{5}=0.8$\n",
    "- Für $x=180$: Der Anteil der PErsonen, die höchstens $180$ cm groß sind, beträgt $\\frac{5}{5}=1$\n",
    "\n",
    "Die EVF wächst also stufenweise an und erreicht am höchsten Messwert einen Wert von 1,0, was bedeutet, dass alle gemessenen Werte höchstens diesem Wert entsprechen.\n",
    "<br>\n",
    "<br>\n",
    "Die empirische Verteilungsfunktion lässt sich als eine Art Treppenfunktion (oder Sprungfunktion genannt) darstellen, die bei jedem Wert der Stichprobe einen Sprung macht. Jeder Sprung zeigt an, wie viele Werte bis zu diesem Punkt kumuliert wurden.\n",
    "\n",
    "<img src=\"../img/evf_01.png\" alt=\"Empirische Verteilungsfunktion\" width=\"700\">\n",
    "\n",
    "Auf der y-Achse ist die kumulierte Wahrscheinlichkeit (von 0 bis 1) dargestellt und auf der x-Achse die Messwerte (in diesem Fall die Körpergrößen in cm).\n",
    "Jeder „Sprung“ der Funktion entspricht dem Anteil der Stichprobe, der den aktuellen oder einen niedrigeren Wert aufweist.\n",
    "\n",
    "\n",
    "\n",
    "Andere Bezeichnungen sind für die EVF sind:\n",
    "- Summenhäufigkeitsfunktion\n",
    "- Verteilungsfunktion der Stichprobe\n",
    "\n",
    "Bei der empirischen Verteilungsunktion ist wie bei einem Histogramm die Unterscheidung zwischen quantitativ diskreten und stetigen Daten wichtig. \n",
    "Sie wird sich in ihrer Darstellungsart deutlich unterscheiden. Bei quantitativ diskreten Daten erkennt man eine klare Treppenfunktion, bei quantitativ stetigen Daten ist die Form der EVF deutlich glatter ohne tyische Treppen. Um dies zu verinnerlichen, wird die EVF erstmal bei quantitativ diskreten und später bei quantitativ stetig Daten im Detail betrachtet."
   ]
  }
 ],
 "metadata": {
  "language_info": {
   "name": "python"
  }
 },
 "nbformat": 4,
 "nbformat_minor": 2
}
