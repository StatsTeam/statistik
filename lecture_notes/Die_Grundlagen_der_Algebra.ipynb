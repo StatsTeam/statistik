{
 "cells": [
  {
   "cell_type": "markdown",
   "metadata": {},
   "source": [
    "# Die Grundlagen der Algebra\n",
    "\n",
    "Algebra ist ein Zweig der Mathematik, der sich mit dem Studium von Operationen und Beziehungen zwischen Variablen beschäftigt, die oft durch Symbole dargestellt werden.\n",
    "Algebra entwickelt allgemeine Regeln und Methoden, um Probleme zu lösen und ermöglicht das Arbeiten mit Symbolen, die für Zahlen oder andere mathematische Objekte stehen können.\n",
    "\n",
    "## Variablen, Aussagen, Terme, Gleichungen...\n",
    "\n",
    "**Variable:**\n",
    "\n",
    "Eine Variable ist ein Symbol (meistens Buchstaben wie  $x$, $y$ oder $z$) das einen Wert annehmen kann. In der Algebra werden Variablen verwendet, um allgemeine Aussagen zu bilden, die für verschiedene Werte gelten.\n",
    "\n",
    "**Aussagen:**\n",
    "\n",
    "Eine Aussage ist ein mathematischer oder logischer Satz, der entweder wahr oder falsch ist.\n",
    "\n",
    "Beispiele für Aussage:\n",
    "- $40+2=42$ ist eine wahre Aussage\n",
    "- \"$5$ ist eine gerade Zahl\", ist eine falsche Aussage\n",
    "- \"Für alle natürlichen Zahlen $n$ gilt $n+1>n$, ist eine wahre Aussage\n",
    "- $x+3=7$ ist eine sogenannte \"offene Aussage\", ob diese Aussage wahr oder falsch ist, hängt von der Variable $x$ ab. Für $x=4$ ist die Aussage wahr.\n",
    "\n",
    "**Terme:**\n",
    "\n",
    "Ein Term ist ein grundlegender mathematischer Ausdruck, der aus Zahlen, Variablen und mathematischen Operationen (wie Addition, Subtraktion, Multiplikation und Division) besteht. Terme sind die Bausteine von Gleichungen und mathematischen Ausdrücken und dienen dazu, Beziehungen darzustellen.\n",
    "\n",
    "Beispiele für Terme:\n",
    "- $3\\cdot x$\n",
    "- $5\\cdot y + 2$\n",
    "- $a^2-4a$\n",
    "- $\\frac{3}{x+1}$\n",
    "\n",
    "**Gleichungen:**\n",
    "\n",
    "Eine Gleichung ist ein mathematischer Ausdruck, der besagt, dass zwei Terme gleich sind. Eine Gleichung enthält normalerweise ein Gleichheitszeichen $=$ und oft eine oder mehrere Variablen. \n",
    "Eine Gleichung stellt eine Bedingung dar, welche die Variable(n) erfüllen muss (müssen), um die Gleichheit zu wahren. Das Ziel bei einer Gleichung ist es oft, die Werte der Variablen zu finden, die die Gleichung erfüllen.\n",
    "\n",
    "Beispiele für Gleichungen:\n",
    "- $x+3=7$\n",
    "- $x^2-9=0$\n",
    "- $v=\\frac{120\\text{km}}{2\\text{h}}$\n",
    "- $\\text{BMI}=\\frac{70}{1.75^2}$\n",
    "- $F=\\frac{5}{9}C+32$\n",
    "- $U=RI$"
   ]
  }
 ],
 "metadata": {
  "language_info": {
   "name": "python"
  }
 },
 "nbformat": 4,
 "nbformat_minor": 2
}
