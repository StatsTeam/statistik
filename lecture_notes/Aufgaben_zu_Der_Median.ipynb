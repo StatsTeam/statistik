{
 "cells": [
  {
   "cell_type": "markdown",
   "metadata": {},
   "source": [
    "# Aufgaben zu: Der Median\n",
    "\n",
    "## 1. Aufgabe\n",
    "\n",
    "Das monatliche Bruttoeinkommen von 10 Personen wurde festgestellt. Es ergaben sich folgende Euro-Werte:<br>\n",
    "`2741, 1576, 1477, 2910, 2112, 1530, 5730, 1976, 2342, 3790`\n",
    "<br>\n",
    "<br>\n",
    "Bestimmen Sie den Median und das arithmetische Mittel der Datenreihe.\n",
    "\n",
    "### Lösung\n",
    "\n",
    "\n"
   ]
  }
 ],
 "metadata": {
  "language_info": {
   "name": "python"
  }
 },
 "nbformat": 4,
 "nbformat_minor": 2
}
