{
 "cells": [
  {
   "cell_type": "markdown",
   "metadata": {},
   "source": [
    "# Aufgaben zu: Die Grundlagen der Arithmetik\n",
    "\n",
    "## 1. Aufgaben zur Addition\n",
    "\n",
    "1. Berechne die Summe: $2a+4a+3b+10b+2c$\n",
    "2. Addiere 15, 8 und 37 zusammen. Ist das Ergebnis dasselbe, egal in welcher Reihenfolge du die Zahlen addierst? Begründe deine Antwort mit dem Kommutativgesetz.\n",
    "3. Finde die Summe von $75+29+54$  unter Verwendung des Assoziativgesetzes. Zeige die Schritte.\n",
    "\n",
    "## 2. Aufgaben zur Subtraktion\n",
    "\n",
    "1. Subtrahiere 32 von 78. Welches Ergebnis erhältst du?\n",
    "2. Berechne die Differenz: $(57-32)-5$. Verändert sich das Ergebnis, wenn du die Subtraktionen in einer anderen Reihenfolge durchführst?\n",
    "3. Welche Zahl musst du von $150$ abziehen, um $85$ zu erhalten?\n",
    "\n",
    "## 3. Aufgaben zur Multiplikation\n",
    "\n",
    "1. Multipliziere $8$ mit $15$. Verwende das Kommutativgesetz und überprüfe, ob das Ergebnis gleich bleibt, wenn du die Reihenfolge der Faktoren änderst.\n",
    "2. Berechne das Produkt von $4\\cdot(7+3)$ unter Anwendung des Distributivgesetzes.\n",
    "3. Ein Paket wiegt $3$ kg. Wie schwer sind $12$ solcher Pakete? Gib deine Rechnung ausführlich an!\n",
    "\n",
    "## 4. Aufgaben zur Division\n",
    "\n",
    "1. Teile $72k$ durch $9$. Welcher Wert ergibt sich?\n",
    "2. Ein Betrag von $150$ € wird gleichmäßig auf $5$ Personen verteilt. Wie viel erhält jede Person? Gib eine ausführliche Rechnung an!\n",
    "3. Warum ist die Division $45$ durch $0$ nicht definiert? Erkläre dies mit eigenen Worten.\n",
    "\n",
    "## 5. Aufgaben zu Potenzen\n",
    "\n",
    "1. Berechne den Wert von $3^4$ und erkläre, was dieser Ausdruck bedeutet.\n",
    "2. Was ergibt $5^0$? Begründe, warum das Ergebnis 1 ist.\n",
    "3. Schreibe die Zahl $1000000$ in der wissenschaftlichen Notation.\n",
    "4. Welchen Wert hat $10^3$ und $10^-2$? Erkläre, wie der Exponent die Richtung der Dezimalverschiebung bestimmt.\n",
    "5. Berechne $2^5$ und erkläre, wie oft $2$ multipliziert wird.\n"
   ]
  }
 ],
 "metadata": {
  "language_info": {
   "name": "python"
  }
 },
 "nbformat": 4,
 "nbformat_minor": 2
}
