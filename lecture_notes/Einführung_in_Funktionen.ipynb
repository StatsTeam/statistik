{
 "cells": [
  {
   "cell_type": "markdown",
   "metadata": {},
   "source": [
    "# Einführung in Funktionen\n",
    "\n",
    "Eine Funktion ist eine Zuordnung, die jedem Wert einer unabhängigen Variable (meist $x$ genannt) genau einen Wert der abhängigen Variablen (meist $y$ oder \n",
    "$f(x)$) zuordnet. Funktionen beschreiben also Beziehungen zwischen zwei Größen, wobei für jede Eingabe (auch „Argument“ genannt) genau eine Ausgabe berechnet wird.\n",
    "<br>\n",
    "<br>\n",
    "Die Schreibweise einer Funktion sieht oft so aus:\n",
    "\n",
    "$$y=f(x)$$\n",
    "\n",
    "Hierbei ist:\n",
    "- $x$ der Eingabewert oder die unabhängige Variable,\n",
    "- $y$ oder $f(x)$ der Ausgabewert, der von $x$ abhängt und die abhängige Variable ist,\n",
    "- $f$ der Funktionsname.\n",
    "\n",
    "Beispiel für eine Funktion:\n",
    "\n",
    "$f(x)=2\\cdot x +3$  Diese Funktion ordnet jedem Wert von $x$ das doppelte von $x$ plus 3 zu.\n",
    "\n",
    "Um einen kleinen Ausschnit der möglichen Eingabewerte und Ausgabewerte zu erhalten, kann man eine Wertetabelle erstellen:\n",
    "\n",
    "| x   | y   |\n",
    "| --- | --- |\n",
    "| -1  | 1   |\n",
    "| 0   | 3   |\n",
    "| 1   | 5   |\n",
    "| 2   | 7   |\n",
    "\n",
    "Dadurch das kein Definitionsbereich angegeben wurde, können wir annehmen, das alle reelle Zahlen für $x$ eingesetzt werden dürfen.\n",
    "\n",
    "## Der Graph einer Funktion\n",
    "\n",
    "Der Graph einer Funktion ist die grafische Darstellung aller Punkte $(x,y)$, die die Funktionsgleichung erfüllen. Zum Beispiel ergibt der Graph der Funktion \n",
    "$f(x)=2\\cdot x+1$ eine Gerade. Der Graph einer Funktion veranschaulicht die Beziehung zwischen den Werten der Eingabe und der zugehörigen Ausgabe und ermöglicht ein schnelles visuelles Verständnis der Funktion.\n",
    "<br>\n",
    "<br>\n",
    "Funktionen werden in einem Koordinatensystem grafisch dargestellt. Für die Darstellung von Funktionen gibt es mehrere Arten von Koordinatensystemen, die je nach Funktionstyp und Zweck verwendet werden. Klassisch verwendet man das sogenannte kartesische Koordinatensystem. Es besteht aus zwei Achsen, die sich rechtwinklig schneiden: der x-Achse (horizontal) und der y-Achse (vertikal).\n",
    "\n",
    "<img src=\"../img/lineare_funk_01.png\" alt=\"Relative Häufigkeit der Geschwisterzahl\" width=\"600\">"
   ]
  }
 ],
 "metadata": {
  "language_info": {
   "name": "python"
  }
 },
 "nbformat": 4,
 "nbformat_minor": 2
}
