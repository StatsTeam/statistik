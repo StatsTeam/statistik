{
 "cells": [
  {
   "cell_type": "markdown",
   "metadata": {},
   "source": [
    "# Aufgaben zu: Das arithmetische gewichtete Mittel\n",
    "\n",
    "## 1. Aufgabe\n",
    "\n",
    "Im Zeitraum vom 01.02.2017 bis zum 05.02.2017 kamen im Krankenhaus Neustadt drei Kinder zur Welt. Die Geburtsgewichte waren $3690g$, $3520g$ und $4110g$. \n",
    "<br>\n",
    "<br>\n",
    "Im Zeitraum vom 08.02.2017 bis zum 19.02.2017 gab es in demselben Krankenhaus $5$ Geburten mit den Geburtsgewichten $3080g$, $3840g$, $2929g$, $3680g$ und $3730g$.\n",
    "\n",
    "1. Bestimmen Sie für jeden der beiden Zeiträume das durchschnittliche Geburtsgewicht. \n",
    "   Verwenden Sie dann das gewichtete arithmetische Mittel, um das mittlere Geburtsgewicht aller 8 Geburten zu berechnen.Gewichten Sie dazu jeden der beiden berechneten Mittelwerte mit der Anzahl der zugehörigen Geburten\n",
    "2. Berechnen Sie das mittlere Geburtsgewicht aller $8$ Geburten direkt mit \n",
    "\tdem arithmetischen Mittel aus den Einzelwerten.\n",
    "3. Vergleichen Sie die Resultate aus der 1. Teilaufgabe und der 2. Teilaufgabe. Was ist ihre Beobachtung und Schlussfolgerung?\n",
    "\n",
    "### Lösung\n",
    "\n",
    "1. Mittleres Geburtsgewicht aller 8 Geburten:\n",
    "   \n",
    "   $\\overline{x_1}=\\frac{3690+3520+4110}{3}=\\frac{11320}{3}=3773,3333$\n",
    "\n",
    "   $\\overline{x_2}=\\frac{3080+3840+2929+3680+3730}{5}=3451,8$\n",
    "\n",
    "   $\\overline{x_{gew}}=\\frac{3773,3333\\cdot3+3451,8\\cdot5}{8}=3572,375\\text{ Gramm}$\n",
    "\n",
    "2. Mittleres Geburtsgewicht aller 8 Geburten mit dem arithmetischen Mittel:\n",
    "   \n",
    "   $\\overline{x}=\\frac{3690+3520+4110+3080+3840+2929+3680+3730}{8}=3572,375\\text{ Gramm}$\n",
    "\n",
    "3. Schlussfolgerung:<br>\n",
    "   Diese Aufgabe zeigt, dass man das arithmetische Mittel einer Gesamtreihe (die $$8 Geburten) aus den Mittelwerten von zwei Teilreihen ($3$ bzw. $5$ Geburten) berechnen kann. Dazu muss man das gewichtete arithmetische Mittel aus den Mittelwerden der beiden Teilreihen bilden.\n",
    "   Somit ist das gewichtete arithmetische Mittel nicht ein anderes \"Mittel\" als das arithmetische Mittel! Es handelt sich lediglich um eine unterschiedliche Herangehensweise bzw. Berechnungsart.\n",
    "\n",
    "\n",
    "\n"
   ]
  }
 ],
 "metadata": {
  "language_info": {
   "name": "python"
  }
 },
 "nbformat": 4,
 "nbformat_minor": 2
}
