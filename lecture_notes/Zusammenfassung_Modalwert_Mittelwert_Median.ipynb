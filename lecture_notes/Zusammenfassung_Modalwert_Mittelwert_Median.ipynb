{
 "cells": [
  {
   "cell_type": "markdown",
   "metadata": {},
   "source": [
    "# Zusammenfassung zum arithmetischen Mittel, Median und Modus\n",
    "\n",
    "Die Modalwert, Median und das arithmetische Mittel sind statistische Kennzahlen, die verwendet werden, um die zentrale Tendenz einer Verteilung zu beschreiben. Abhängig von dem Merkmal kann man diese Lagemaßzahlen verwenden oder eben nicht:\n",
    "\n",
    "| Merkmal               | Mögliche Lagemaßzahlen           |\n",
    "| --------------------- | -------------------------------- |\n",
    "| Nominales Merkmal     | Modalwert                        |\n",
    "| Ordinales Merkmal     | Modalwert, Median                |\n",
    "| Quantitatives Merkmal | Modalwert, Median, arith. Mittel |\n",
    "\n",
    "## Die Unterschiede zusammengefasst\n",
    "\n",
    "### Das Arithmetisches Mittel\n",
    "\n",
    "- Kann als Punkt dargestellt werden, der die Mitte oder den \"Schwerpunkt\" eines Datensatzes repräsentiert.\n",
    "- Berechnung erfolgt durch Verwendung aller vorliegenden Daten $\\rightarrow$ viel Informationen im arth. Mittel über Datenreihe\n",
    "- Sehr empfindlich gegenüber Ausreißern \n",
    "- Grundlage für Berechnung der Streuungsmaßzahlen\n",
    "- Bei Schätzungen eine große Bedeutung\n",
    "\n",
    "### Der Median\n",
    "\n",
    "- Ist der Wert, der eine Verteilung in zwei Hälften teilt, wobei 50% der Datenwerte oberhalb und 50% der Datenwerte unterhalb des Medians liegen\n",
    "- Robust gegenüber Ausreißern weil er auf der Position der Datenpunkte basiert\n",
    "\n",
    "### Der Modalwert\n",
    "\n",
    "- Wert oder Klasse die am häufigsten vorkommt\n",
    "- Nützlich zum Identifizieren des repräsentativsten Wertes\n",
    "- Es muss nicht nur ein Modalwert vorhanden sein\n",
    "\n",
    "## Zusammenhang mit der Verteilung\n",
    "\n",
    "Für die drei Lagemaßzahlen arithmetisches Mittel, Median und Modalwert gibt es eine Faustregel, die in Abhängigkeit von der Form der Verteilung, die Lage dieser Lagemaßzahlen beschreibt. Eine Verteilung kann folgendes Aussehen annehmen:\n",
    "- Symmetrische Verteilung:\n",
    "\t- Hier liegen die Lagemaßzahlen zusammen\n",
    "\t- Modalwert $\\approx$ Median $\\approx$ arithmetisches Mittel\n",
    "- Rechtsschiefe Verteilung:\n",
    "\t- Lagemaßzahlen verlaufen weiter nach rechts\n",
    "\t- Modalwert $<$ Median $<$ arithmetisches Mittel\n",
    "- Linksschiefe Verteilung:\n",
    "\t- Lagemaßzahlen verlaufen weiter nach links\n",
    "\t- Modalwert $>$ Median $>$ arithmetisches Mittel\n",
    "\n",
    "Die folgende Abbildung soll eine Vorstellung zu der Lage der Lagemaßzahlen, innerhalb unterschiedlicher Verteilungen geben:\n",
    "\n",
    "<img src=\"../img/maxresdefault.jpg\" alt=\"Empirische Verteilungsfunktion\" width=\"700\">"
   ]
  }
 ],
 "metadata": {
  "language_info": {
   "name": "python"
  }
 },
 "nbformat": 4,
 "nbformat_minor": 2
}
